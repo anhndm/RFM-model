{
 "cells": [
  {
   "attachments": {},
   "cell_type": "markdown",
   "metadata": {},
   "source": [
    "# **CUSTOMER PROFILE FOR UNITED STATES CYCLING INDUSTRY USING K-MEANS AND RFM MODEL**"
   ]
  },
  {
   "cell_type": "markdown",
   "metadata": {},
   "source": [
    "#### Import necessary libraries"
   ]
  },
  {
   "cell_type": "code",
   "execution_count": 70,
   "metadata": {},
   "outputs": [],
   "source": [
    "import pandas as pd\n",
    "import numpy as np\n",
    "import seaborn as sns\n",
    "from matplotlib import pyplot as plt\n",
    "import plotly.express as px\n",
    "import plotly as py\n",
    "import plotly.graph_objs as go\n",
    "import datetime as dt\n",
    "from sklearn.metrics import silhouette_score, accuracy_score\n",
    "\n",
    "import warnings \n",
    "warnings.filterwarnings('ignore')"
   ]
  },
  {
   "cell_type": "code",
   "execution_count": 71,
   "metadata": {},
   "outputs": [],
   "source": [
    "import lifetimes\n",
    "from lifetimes import GammaGammaFitter\n",
    "from scipy.stats import gamma, beta\n",
    "from lifetimes import BetaGeoFitter\n",
    "from lifetimes.plotting import plot_frequency_recency_matrix\n",
    "from lifetimes.plotting import plot_probability_alive_matrix\n",
    "from lifetimes.plotting import plot_period_transactions\n",
    "from lifetimes.utils import calibration_and_holdout_data\n",
    "from lifetimes.plotting import *"
   ]
  },
  {
   "cell_type": "markdown",
   "metadata": {},
   "source": [
    "#### Loading dataset"
   ]
  },
  {
   "cell_type": "code",
   "execution_count": 72,
   "metadata": {},
   "outputs": [],
   "source": [
    "# data\n",
    "sales_df_raw = pd.read_excel('AdventureWorks Sales_raw.xlsx', sheet_name='Sales_data')\n",
    "\n",
    "date_df_raw = pd.read_excel('AdventureWorks Sales_raw.xlsx', sheet_name='Date_data')\n",
    "\n",
    "product_df_raw= pd.read_excel('AdventureWorks Sales_raw.xlsx', sheet_name='Product_data')\n",
    "\n",
    "customer_df_raw = pd.read_excel('AdventureWorks Sales_raw.xlsx', sheet_name='Customer_data')"
   ]
  },
  {
   "cell_type": "code",
   "execution_count": 73,
   "metadata": {},
   "outputs": [
    {
     "data": {
      "text/plain": [
       "(121253, 6)"
      ]
     },
     "execution_count": 73,
     "metadata": {},
     "output_type": "execute_result"
    }
   ],
   "source": [
    "sales_df = sales_df_raw[['SalesOrderLineKey','CustomerKey','ProductKey','OrderDateKey','Order Quantity','Sales Amount']]\n",
    "sales_df.shape"
   ]
  },
  {
   "cell_type": "code",
   "execution_count": 74,
   "metadata": {},
   "outputs": [
    {
     "data": {
      "text/plain": [
       "(125, 5)"
      ]
     },
     "execution_count": 74,
     "metadata": {},
     "output_type": "execute_result"
    }
   ],
   "source": [
    "product_df = product_df_raw[['ProductKey','Product','Model','Subcategory','Category']]\n",
    "product_df = product_df[product_df['Category'] == 'Bikes']\n",
    "product_df.shape"
   ]
  },
  {
   "cell_type": "code",
   "execution_count": 75,
   "metadata": {},
   "outputs": [
    {
     "data": {
      "text/plain": [
       "(1461, 2)"
      ]
     },
     "execution_count": 75,
     "metadata": {},
     "output_type": "execute_result"
    }
   ],
   "source": [
    "#keep columns DateKey, Date\n",
    "date_df = date_df_raw[['DateKey','Date']]\n",
    "date_df = date_df.rename(columns={'DateKey': 'OrderDateKey'})\n",
    "date_df.shape"
   ]
  },
  {
   "cell_type": "code",
   "execution_count": 76,
   "metadata": {},
   "outputs": [
    {
     "data": {
      "text/plain": [
       "(7819, 5)"
      ]
     },
     "execution_count": 76,
     "metadata": {},
     "output_type": "execute_result"
    }
   ],
   "source": [
    "#delete value -1 of CustomerKey and columns Postal Code and Customer ID\n",
    "customer_df_raw = customer_df_raw[customer_df_raw['CustomerKey'] != -1]\n",
    "customer_df_raw = customer_df_raw[customer_df_raw['Country-Region'] == 'United States']\n",
    "customer_df = customer_df_raw.drop(columns=['Postal Code','Customer ID'])\n",
    "\n",
    "customer_df.shape"
   ]
  },
  {
   "cell_type": "markdown",
   "metadata": {},
   "source": [
    "#### Data Engineering\n",
    "create the dataframe for RFM model"
   ]
  },
  {
   "cell_type": "code",
   "execution_count": 77,
   "metadata": {},
   "outputs": [
    {
     "data": {
      "text/html": [
       "<div>\n",
       "<style scoped>\n",
       "    .dataframe tbody tr th:only-of-type {\n",
       "        vertical-align: middle;\n",
       "    }\n",
       "\n",
       "    .dataframe tbody tr th {\n",
       "        vertical-align: top;\n",
       "    }\n",
       "\n",
       "    .dataframe thead th {\n",
       "        text-align: right;\n",
       "    }\n",
       "</style>\n",
       "<table border=\"1\" class=\"dataframe\">\n",
       "  <thead>\n",
       "    <tr style=\"text-align: right;\">\n",
       "      <th></th>\n",
       "      <th>SalesOrderLineKey</th>\n",
       "      <th>CustomerKey</th>\n",
       "      <th>ProductKey</th>\n",
       "      <th>OrderDateKey</th>\n",
       "      <th>Order Quantity</th>\n",
       "      <th>Sales Amount</th>\n",
       "      <th>Product</th>\n",
       "      <th>Model</th>\n",
       "      <th>Subcategory</th>\n",
       "      <th>Category</th>\n",
       "      <th>Date</th>\n",
       "      <th>Customer</th>\n",
       "      <th>City</th>\n",
       "      <th>State-Province</th>\n",
       "      <th>Country-Region</th>\n",
       "    </tr>\n",
       "  </thead>\n",
       "  <tbody>\n",
       "    <tr>\n",
       "      <th>0</th>\n",
       "      <td>43711001</td>\n",
       "      <td>27606</td>\n",
       "      <td>314</td>\n",
       "      <td>20170702</td>\n",
       "      <td>1</td>\n",
       "      <td>3,578.270</td>\n",
       "      <td>Road-150 Red, 56</td>\n",
       "      <td>Road-150</td>\n",
       "      <td>Road Bikes</td>\n",
       "      <td>Bikes</td>\n",
       "      <td>2017-07-02</td>\n",
       "      <td>Courtney Edwards</td>\n",
       "      <td>Milwaukie</td>\n",
       "      <td>Oregon</td>\n",
       "      <td>United States</td>\n",
       "    </tr>\n",
       "    <tr>\n",
       "      <th>1</th>\n",
       "      <td>71134001</td>\n",
       "      <td>27606</td>\n",
       "      <td>563</td>\n",
       "      <td>20200421</td>\n",
       "      <td>1</td>\n",
       "      <td>2,384.070</td>\n",
       "      <td>Touring-1000 Yellow, 54</td>\n",
       "      <td>Touring-1000</td>\n",
       "      <td>Touring Bikes</td>\n",
       "      <td>Bikes</td>\n",
       "      <td>2020-04-21</td>\n",
       "      <td>Courtney Edwards</td>\n",
       "      <td>Milwaukie</td>\n",
       "      <td>Oregon</td>\n",
       "      <td>United States</td>\n",
       "    </tr>\n",
       "    <tr>\n",
       "      <th>2</th>\n",
       "      <td>43706001</td>\n",
       "      <td>27621</td>\n",
       "      <td>312</td>\n",
       "      <td>20170702</td>\n",
       "      <td>1</td>\n",
       "      <td>3,578.270</td>\n",
       "      <td>Road-150 Red, 48</td>\n",
       "      <td>Road-150</td>\n",
       "      <td>Road Bikes</td>\n",
       "      <td>Bikes</td>\n",
       "      <td>2017-07-02</td>\n",
       "      <td>Edward Brown</td>\n",
       "      <td>Santa Monica</td>\n",
       "      <td>California</td>\n",
       "      <td>United States</td>\n",
       "    </tr>\n",
       "    <tr>\n",
       "      <th>3</th>\n",
       "      <td>71203001</td>\n",
       "      <td>27621</td>\n",
       "      <td>561</td>\n",
       "      <td>20200422</td>\n",
       "      <td>1</td>\n",
       "      <td>2,384.070</td>\n",
       "      <td>Touring-1000 Yellow, 46</td>\n",
       "      <td>Touring-1000</td>\n",
       "      <td>Touring Bikes</td>\n",
       "      <td>Bikes</td>\n",
       "      <td>2020-04-22</td>\n",
       "      <td>Edward Brown</td>\n",
       "      <td>Santa Monica</td>\n",
       "      <td>California</td>\n",
       "      <td>United States</td>\n",
       "    </tr>\n",
       "    <tr>\n",
       "      <th>4</th>\n",
       "      <td>43707001</td>\n",
       "      <td>27616</td>\n",
       "      <td>312</td>\n",
       "      <td>20170702</td>\n",
       "      <td>1</td>\n",
       "      <td>3,578.270</td>\n",
       "      <td>Road-150 Red, 48</td>\n",
       "      <td>Road-150</td>\n",
       "      <td>Road Bikes</td>\n",
       "      <td>Bikes</td>\n",
       "      <td>2017-07-02</td>\n",
       "      <td>Emma Brown</td>\n",
       "      <td>Lemon Grove</td>\n",
       "      <td>California</td>\n",
       "      <td>United States</td>\n",
       "    </tr>\n",
       "  </tbody>\n",
       "</table>\n",
       "</div>"
      ],
      "text/plain": [
       "   SalesOrderLineKey  CustomerKey  ProductKey  OrderDateKey  Order Quantity  \\\n",
       "0           43711001        27606         314      20170702               1   \n",
       "1           71134001        27606         563      20200421               1   \n",
       "2           43706001        27621         312      20170702               1   \n",
       "3           71203001        27621         561      20200422               1   \n",
       "4           43707001        27616         312      20170702               1   \n",
       "\n",
       "   Sales Amount                  Product         Model    Subcategory  \\\n",
       "0     3,578.270         Road-150 Red, 56      Road-150     Road Bikes   \n",
       "1     2,384.070  Touring-1000 Yellow, 54  Touring-1000  Touring Bikes   \n",
       "2     3,578.270         Road-150 Red, 48      Road-150     Road Bikes   \n",
       "3     2,384.070  Touring-1000 Yellow, 46  Touring-1000  Touring Bikes   \n",
       "4     3,578.270         Road-150 Red, 48      Road-150     Road Bikes   \n",
       "\n",
       "  Category       Date          Customer          City State-Province  \\\n",
       "0    Bikes 2017-07-02  Courtney Edwards     Milwaukie         Oregon   \n",
       "1    Bikes 2020-04-21  Courtney Edwards     Milwaukie         Oregon   \n",
       "2    Bikes 2017-07-02      Edward Brown  Santa Monica     California   \n",
       "3    Bikes 2020-04-22      Edward Brown  Santa Monica     California   \n",
       "4    Bikes 2017-07-02        Emma Brown   Lemon Grove     California   \n",
       "\n",
       "  Country-Region  \n",
       "0  United States  \n",
       "1  United States  \n",
       "2  United States  \n",
       "3  United States  \n",
       "4  United States  "
      ]
     },
     "execution_count": 77,
     "metadata": {},
     "output_type": "execute_result"
    }
   ],
   "source": [
    "aw_df = pd.merge(left=sales_df, right=product_df,on='ProductKey')\n",
    "aw_df = pd.merge(left=aw_df, right=date_df, on='OrderDateKey')\n",
    "aw_df = pd.merge(left=aw_df, right=customer_df, on='CustomerKey')\n",
    "\n",
    "aw_df.head()"
   ]
  },
  {
   "cell_type": "code",
   "execution_count": 78,
   "metadata": {},
   "outputs": [
    {
     "data": {
      "text/plain": [
       "SalesOrderLineKey    0\n",
       "CustomerKey          0\n",
       "ProductKey           0\n",
       "OrderDateKey         0\n",
       "Order Quantity       0\n",
       "Sales Amount         0\n",
       "Product              0\n",
       "Model                0\n",
       "Subcategory          0\n",
       "Category             0\n",
       "Date                 0\n",
       "Customer             0\n",
       "City                 0\n",
       "State-Province       0\n",
       "Country-Region       0\n",
       "dtype: int64"
      ]
     },
     "execution_count": 78,
     "metadata": {},
     "output_type": "execute_result"
    }
   ],
   "source": [
    "aw_df = aw_df.dropna()\n",
    "aw_df.isnull().sum()"
   ]
  },
  {
   "cell_type": "code",
   "execution_count": 79,
   "metadata": {},
   "outputs": [],
   "source": [
    "aw_df=aw_df.drop_duplicates()"
   ]
  },
  {
   "cell_type": "code",
   "execution_count": 80,
   "metadata": {},
   "outputs": [
    {
     "data": {
      "text/plain": [
       "(Timestamp('2017-07-01 00:00:00'), Timestamp('2020-05-30 00:00:00'))"
      ]
     },
     "execution_count": 80,
     "metadata": {},
     "output_type": "execute_result"
    }
   ],
   "source": [
    "recent_day = aw_df['Date'].max()\n",
    "min_day = aw_df['Date'].min()\n",
    "min_day, recent_day"
   ]
  },
  {
   "attachments": {},
   "cell_type": "markdown",
   "metadata": {},
   "source": [
    "Days 1064\n",
    "Years, Months, Days\n",
    "2, 10, 29"
   ]
  },
  {
   "cell_type": "code",
   "execution_count": 81,
   "metadata": {},
   "outputs": [],
   "source": [
    "from datetime import timedelta"
   ]
  },
  {
   "cell_type": "code",
   "execution_count": 82,
   "metadata": {},
   "outputs": [
    {
     "data": {
      "text/html": [
       "<div>\n",
       "<style scoped>\n",
       "    .dataframe tbody tr th:only-of-type {\n",
       "        vertical-align: middle;\n",
       "    }\n",
       "\n",
       "    .dataframe tbody tr th {\n",
       "        vertical-align: top;\n",
       "    }\n",
       "\n",
       "    .dataframe thead th {\n",
       "        text-align: right;\n",
       "    }\n",
       "</style>\n",
       "<table border=\"1\" class=\"dataframe\">\n",
       "  <thead>\n",
       "    <tr style=\"text-align: right;\">\n",
       "      <th></th>\n",
       "      <th>CustomerKey</th>\n",
       "      <th>Date</th>\n",
       "      <th>Sales Amount</th>\n",
       "    </tr>\n",
       "  </thead>\n",
       "  <tbody>\n",
       "    <tr>\n",
       "      <th>0</th>\n",
       "      <td>27606</td>\n",
       "      <td>2017-07-02</td>\n",
       "      <td>3,578.270</td>\n",
       "    </tr>\n",
       "    <tr>\n",
       "      <th>1</th>\n",
       "      <td>27606</td>\n",
       "      <td>2020-04-21</td>\n",
       "      <td>2,384.070</td>\n",
       "    </tr>\n",
       "    <tr>\n",
       "      <th>2</th>\n",
       "      <td>27621</td>\n",
       "      <td>2017-07-02</td>\n",
       "      <td>3,578.270</td>\n",
       "    </tr>\n",
       "    <tr>\n",
       "      <th>3</th>\n",
       "      <td>27621</td>\n",
       "      <td>2020-04-22</td>\n",
       "      <td>2,384.070</td>\n",
       "    </tr>\n",
       "    <tr>\n",
       "      <th>4</th>\n",
       "      <td>27616</td>\n",
       "      <td>2017-07-02</td>\n",
       "      <td>3,578.270</td>\n",
       "    </tr>\n",
       "    <tr>\n",
       "      <th>...</th>\n",
       "      <td>...</td>\n",
       "      <td>...</td>\n",
       "      <td>...</td>\n",
       "    </tr>\n",
       "    <tr>\n",
       "      <th>4902</th>\n",
       "      <td>22116</td>\n",
       "      <td>2019-10-29</td>\n",
       "      <td>539.990</td>\n",
       "    </tr>\n",
       "    <tr>\n",
       "      <th>4903</th>\n",
       "      <td>20028</td>\n",
       "      <td>2019-10-29</td>\n",
       "      <td>1,120.490</td>\n",
       "    </tr>\n",
       "    <tr>\n",
       "      <th>4904</th>\n",
       "      <td>17121</td>\n",
       "      <td>2019-10-29</td>\n",
       "      <td>1,700.990</td>\n",
       "    </tr>\n",
       "    <tr>\n",
       "      <th>4905</th>\n",
       "      <td>22153</td>\n",
       "      <td>2019-10-29</td>\n",
       "      <td>539.990</td>\n",
       "    </tr>\n",
       "    <tr>\n",
       "      <th>4906</th>\n",
       "      <td>22344</td>\n",
       "      <td>2019-10-29</td>\n",
       "      <td>2,384.070</td>\n",
       "    </tr>\n",
       "  </tbody>\n",
       "</table>\n",
       "<p>4907 rows × 3 columns</p>\n",
       "</div>"
      ],
      "text/plain": [
       "      CustomerKey       Date  Sales Amount\n",
       "0           27606 2017-07-02     3,578.270\n",
       "1           27606 2020-04-21     2,384.070\n",
       "2           27621 2017-07-02     3,578.270\n",
       "3           27621 2020-04-22     2,384.070\n",
       "4           27616 2017-07-02     3,578.270\n",
       "...           ...        ...           ...\n",
       "4902        22116 2019-10-29       539.990\n",
       "4903        20028 2019-10-29     1,120.490\n",
       "4904        17121 2019-10-29     1,700.990\n",
       "4905        22153 2019-10-29       539.990\n",
       "4906        22344 2019-10-29     2,384.070\n",
       "\n",
       "[4907 rows x 3 columns]"
      ]
     },
     "execution_count": 82,
     "metadata": {},
     "output_type": "execute_result"
    }
   ],
   "source": [
    "aw_df = aw_df[['CustomerKey','Date','Sales Amount']]\n",
    "aw_df"
   ]
  },
  {
   "attachments": {},
   "cell_type": "markdown",
   "metadata": {},
   "source": [
    "## 2. BG/ Negative Binomial Distribution NBD\n",
    "2.1 Train/Test Split"
   ]
  },
  {
   "cell_type": "code",
   "execution_count": 83,
   "metadata": {},
   "outputs": [
    {
     "data": {
      "text/html": [
       "<div>\n",
       "<style scoped>\n",
       "    .dataframe tbody tr th:only-of-type {\n",
       "        vertical-align: middle;\n",
       "    }\n",
       "\n",
       "    .dataframe tbody tr th {\n",
       "        vertical-align: top;\n",
       "    }\n",
       "\n",
       "    .dataframe thead th {\n",
       "        text-align: right;\n",
       "    }\n",
       "</style>\n",
       "<table border=\"1\" class=\"dataframe\">\n",
       "  <thead>\n",
       "    <tr style=\"text-align: right;\">\n",
       "      <th></th>\n",
       "      <th>frequency</th>\n",
       "      <th>recency</th>\n",
       "      <th>T</th>\n",
       "      <th>monetary_value</th>\n",
       "    </tr>\n",
       "    <tr>\n",
       "      <th>CustomerKey</th>\n",
       "      <th></th>\n",
       "      <th></th>\n",
       "      <th></th>\n",
       "      <th></th>\n",
       "    </tr>\n",
       "  </thead>\n",
       "  <tbody>\n",
       "    <tr>\n",
       "      <th>11015</th>\n",
       "      <td>0.000</td>\n",
       "      <td>0.000</td>\n",
       "      <td>344.000</td>\n",
       "      <td>0.000</td>\n",
       "    </tr>\n",
       "    <tr>\n",
       "      <th>11016</th>\n",
       "      <td>0.000</td>\n",
       "      <td>0.000</td>\n",
       "      <td>322.000</td>\n",
       "      <td>0.000</td>\n",
       "    </tr>\n",
       "    <tr>\n",
       "      <th>11021</th>\n",
       "      <td>0.000</td>\n",
       "      <td>0.000</td>\n",
       "      <td>339.000</td>\n",
       "      <td>0.000</td>\n",
       "    </tr>\n",
       "    <tr>\n",
       "      <th>11022</th>\n",
       "      <td>0.000</td>\n",
       "      <td>0.000</td>\n",
       "      <td>342.000</td>\n",
       "      <td>0.000</td>\n",
       "    </tr>\n",
       "    <tr>\n",
       "      <th>11036</th>\n",
       "      <td>0.000</td>\n",
       "      <td>0.000</td>\n",
       "      <td>340.000</td>\n",
       "      <td>0.000</td>\n",
       "    </tr>\n",
       "    <tr>\n",
       "      <th>...</th>\n",
       "      <td>...</td>\n",
       "      <td>...</td>\n",
       "      <td>...</td>\n",
       "      <td>...</td>\n",
       "    </tr>\n",
       "    <tr>\n",
       "      <th>29334</th>\n",
       "      <td>0.000</td>\n",
       "      <td>0.000</td>\n",
       "      <td>867.000</td>\n",
       "      <td>0.000</td>\n",
       "    </tr>\n",
       "    <tr>\n",
       "      <th>29335</th>\n",
       "      <td>0.000</td>\n",
       "      <td>0.000</td>\n",
       "      <td>866.000</td>\n",
       "      <td>0.000</td>\n",
       "    </tr>\n",
       "    <tr>\n",
       "      <th>29350</th>\n",
       "      <td>0.000</td>\n",
       "      <td>0.000</td>\n",
       "      <td>866.000</td>\n",
       "      <td>0.000</td>\n",
       "    </tr>\n",
       "    <tr>\n",
       "      <th>29352</th>\n",
       "      <td>0.000</td>\n",
       "      <td>0.000</td>\n",
       "      <td>873.000</td>\n",
       "      <td>0.000</td>\n",
       "    </tr>\n",
       "    <tr>\n",
       "      <th>29354</th>\n",
       "      <td>0.000</td>\n",
       "      <td>0.000</td>\n",
       "      <td>858.000</td>\n",
       "      <td>0.000</td>\n",
       "    </tr>\n",
       "  </tbody>\n",
       "</table>\n",
       "<p>3569 rows × 4 columns</p>\n",
       "</div>"
      ],
      "text/plain": [
       "             frequency  recency       T  monetary_value\n",
       "CustomerKey                                            \n",
       "11015            0.000    0.000 344.000           0.000\n",
       "11016            0.000    0.000 322.000           0.000\n",
       "11021            0.000    0.000 339.000           0.000\n",
       "11022            0.000    0.000 342.000           0.000\n",
       "11036            0.000    0.000 340.000           0.000\n",
       "...                ...      ...     ...             ...\n",
       "29334            0.000    0.000 867.000           0.000\n",
       "29335            0.000    0.000 866.000           0.000\n",
       "29350            0.000    0.000 866.000           0.000\n",
       "29352            0.000    0.000 873.000           0.000\n",
       "29354            0.000    0.000 858.000           0.000\n",
       "\n",
       "[3569 rows x 4 columns]"
      ]
     },
     "execution_count": 83,
     "metadata": {},
     "output_type": "execute_result"
    }
   ],
   "source": [
    "df_summary = lifetimes.utils.summary_data_from_transaction_data(\n",
    "    transactions = aw_df, \n",
    "    customer_id_col = \"CustomerKey\", \n",
    "    datetime_col = \"Date\", \n",
    "    monetary_value_col = \"Sales Amount\", \n",
    "    observation_period_end = recent_day, \n",
    "    freq = \"D\")\n",
    "df_summary = pd.DataFrame(df_summary)\n",
    "df_summary"
   ]
  },
  {
   "cell_type": "code",
   "execution_count": 84,
   "metadata": {},
   "outputs": [
    {
     "data": {
      "text/plain": [
       "0.000    2241\n",
       "1.000    1318\n",
       "2.000      10\n",
       "Name: frequency, dtype: int64"
      ]
     },
     "execution_count": 84,
     "metadata": {},
     "output_type": "execute_result"
    }
   ],
   "source": [
    "df_summary['frequency'].value_counts()"
   ]
  },
  {
   "cell_type": "code",
   "execution_count": 85,
   "metadata": {},
   "outputs": [
    {
     "data": {
      "text/plain": [
       "0.000        2241\n",
       "2,294.990     311\n",
       "2,319.990     302\n",
       "2,384.070     229\n",
       "769.490       201\n",
       "742.350       124\n",
       "1,214.850      74\n",
       "539.990        30\n",
       "564.990        26\n",
       "1,700.990      10\n",
       "1,120.490      10\n",
       "1,518.670       6\n",
       "1,531.170       4\n",
       "2,443.350       1\n",
       "Name: monetary_value, dtype: int64"
      ]
     },
     "execution_count": 85,
     "metadata": {},
     "output_type": "execute_result"
    }
   ],
   "source": [
    "df_summary['monetary_value'].value_counts()"
   ]
  },
  {
   "cell_type": "code",
   "execution_count": 86,
   "metadata": {},
   "outputs": [
    {
     "name": "stdout",
     "output_type": "stream",
     "text": [
      "Optimization terminated successfully.\n",
      "         Current function value: 0.378589\n",
      "         Iterations: 38\n",
      "         Function evaluations: 39\n",
      "         Gradient evaluations: 39\n"
     ]
    },
    {
     "data": {
      "text/html": [
       "<div>\n",
       "<style scoped>\n",
       "    .dataframe tbody tr th:only-of-type {\n",
       "        vertical-align: middle;\n",
       "    }\n",
       "\n",
       "    .dataframe tbody tr th {\n",
       "        vertical-align: top;\n",
       "    }\n",
       "\n",
       "    .dataframe thead th {\n",
       "        text-align: right;\n",
       "    }\n",
       "</style>\n",
       "<table border=\"1\" class=\"dataframe\">\n",
       "  <thead>\n",
       "    <tr style=\"text-align: right;\">\n",
       "      <th></th>\n",
       "      <th>coef</th>\n",
       "      <th>se(coef)</th>\n",
       "      <th>lower 95% bound</th>\n",
       "      <th>upper 95% bound</th>\n",
       "    </tr>\n",
       "  </thead>\n",
       "  <tbody>\n",
       "    <tr>\n",
       "      <th>r</th>\n",
       "      <td>3.005</td>\n",
       "      <td>0.170</td>\n",
       "      <td>2.672</td>\n",
       "      <td>3.339</td>\n",
       "    </tr>\n",
       "    <tr>\n",
       "      <th>alpha</th>\n",
       "      <td>2,653.332</td>\n",
       "      <td>159.753</td>\n",
       "      <td>2,340.216</td>\n",
       "      <td>2,966.448</td>\n",
       "    </tr>\n",
       "    <tr>\n",
       "      <th>a</th>\n",
       "      <td>0.051</td>\n",
       "      <td>0.356</td>\n",
       "      <td>-0.647</td>\n",
       "      <td>0.749</td>\n",
       "    </tr>\n",
       "    <tr>\n",
       "      <th>b</th>\n",
       "      <td>0.002</td>\n",
       "      <td>0.016</td>\n",
       "      <td>-0.029</td>\n",
       "      <td>0.034</td>\n",
       "    </tr>\n",
       "  </tbody>\n",
       "</table>\n",
       "</div>"
      ],
      "text/plain": [
       "           coef  se(coef)  lower 95% bound  upper 95% bound\n",
       "r         3.005     0.170            2.672            3.339\n",
       "alpha 2,653.332   159.753        2,340.216        2,966.448\n",
       "a         0.051     0.356           -0.647            0.749\n",
       "b         0.002     0.016           -0.029            0.034"
      ]
     },
     "execution_count": 86,
     "metadata": {},
     "output_type": "execute_result"
    }
   ],
   "source": [
    "bgf = BetaGeoFitter(penalizer_coef=0.001)\n",
    "bgf.fit(\n",
    "        frequency = df_summary[\"frequency\"], \n",
    "        recency = df_summary[\"recency\"], \n",
    "        T = df_summary[\"T\"] ,\n",
    "        weights = None,  \n",
    "        verbose = True,   \n",
    "        tol = 1e-06\n",
    "        )\n",
    "pd.options.display.float_format = '{:,.3f}'.format\n",
    "bgf.summary\n"
   ]
  },
  {
   "cell_type": "code",
   "execution_count": 87,
   "metadata": {},
   "outputs": [
    {
     "data": {
      "text/plain": [
       "<AxesSubplot:title={'center':'Frequency of Repeat Transactions'}, xlabel='Number of Calibration Period Transactions', ylabel='Customers'>"
      ]
     },
     "execution_count": 87,
     "metadata": {},
     "output_type": "execute_result"
    },
    {
     "data": {
      "text/plain": [
       "<Figure size 864x864 with 0 Axes>"
      ]
     },
     "metadata": {},
     "output_type": "display_data"
    },
    {
     "data": {
      "image/png": "[encoded data removed]",
      "text/plain": [
       "<Figure size 432x288 with 1 Axes>"
      ]
     },
     "metadata": {
      "needs_background": "light"
     },
     "output_type": "display_data"
    }
   ],
   "source": [
    "fig = plt.figure(figsize=(12, 12))\n",
    "plot_period_transactions(\n",
    "            model = bgf,  \n",
    "            max_frequency = 10)"
   ]
  },
  {
   "cell_type": "code",
   "execution_count": 88,
   "metadata": {},
   "outputs": [
    {
     "name": "stdout",
     "output_type": "stream",
     "text": [
      "end of observations: 2020-05-30 00:00:00\n",
      "end of calibration period: 2020-04-30 00:00:00\n",
      "customer behavior in calibration and holdout periods\n"
     ]
    },
    {
     "data": {
      "text/html": [
       "<div>\n",
       "<style scoped>\n",
       "    .dataframe tbody tr th:only-of-type {\n",
       "        vertical-align: middle;\n",
       "    }\n",
       "\n",
       "    .dataframe tbody tr th {\n",
       "        vertical-align: top;\n",
       "    }\n",
       "\n",
       "    .dataframe thead th {\n",
       "        text-align: right;\n",
       "    }\n",
       "</style>\n",
       "<table border=\"1\" class=\"dataframe\">\n",
       "  <thead>\n",
       "    <tr style=\"text-align: right;\">\n",
       "      <th></th>\n",
       "      <th>frequency_cal</th>\n",
       "      <th>recency_cal</th>\n",
       "      <th>T_cal</th>\n",
       "      <th>monetary_value_cal</th>\n",
       "      <th>frequency_holdout</th>\n",
       "      <th>monetary_value_holdout</th>\n",
       "      <th>duration_holdout</th>\n",
       "    </tr>\n",
       "    <tr>\n",
       "      <th>CustomerKey</th>\n",
       "      <th></th>\n",
       "      <th></th>\n",
       "      <th></th>\n",
       "      <th></th>\n",
       "      <th></th>\n",
       "      <th></th>\n",
       "      <th></th>\n",
       "    </tr>\n",
       "  </thead>\n",
       "  <tbody>\n",
       "    <tr>\n",
       "      <th>11015</th>\n",
       "      <td>0</td>\n",
       "      <td>0</td>\n",
       "      <td>314</td>\n",
       "      <td>0</td>\n",
       "      <td>0</td>\n",
       "      <td>0</td>\n",
       "      <td>30</td>\n",
       "    </tr>\n",
       "    <tr>\n",
       "      <th>11016</th>\n",
       "      <td>0</td>\n",
       "      <td>0</td>\n",
       "      <td>292</td>\n",
       "      <td>0</td>\n",
       "      <td>0</td>\n",
       "      <td>0</td>\n",
       "      <td>30</td>\n",
       "    </tr>\n",
       "    <tr>\n",
       "      <th>11021</th>\n",
       "      <td>0</td>\n",
       "      <td>0</td>\n",
       "      <td>309</td>\n",
       "      <td>0</td>\n",
       "      <td>0</td>\n",
       "      <td>0</td>\n",
       "      <td>30</td>\n",
       "    </tr>\n",
       "    <tr>\n",
       "      <th>11022</th>\n",
       "      <td>0</td>\n",
       "      <td>0</td>\n",
       "      <td>312</td>\n",
       "      <td>0</td>\n",
       "      <td>0</td>\n",
       "      <td>0</td>\n",
       "      <td>30</td>\n",
       "    </tr>\n",
       "    <tr>\n",
       "      <th>11036</th>\n",
       "      <td>0</td>\n",
       "      <td>0</td>\n",
       "      <td>310</td>\n",
       "      <td>0</td>\n",
       "      <td>0</td>\n",
       "      <td>0</td>\n",
       "      <td>30</td>\n",
       "    </tr>\n",
       "    <tr>\n",
       "      <th>...</th>\n",
       "      <td>...</td>\n",
       "      <td>...</td>\n",
       "      <td>...</td>\n",
       "      <td>...</td>\n",
       "      <td>...</td>\n",
       "      <td>...</td>\n",
       "      <td>...</td>\n",
       "    </tr>\n",
       "    <tr>\n",
       "      <th>29334</th>\n",
       "      <td>0</td>\n",
       "      <td>0</td>\n",
       "      <td>837</td>\n",
       "      <td>0</td>\n",
       "      <td>0</td>\n",
       "      <td>0</td>\n",
       "      <td>30</td>\n",
       "    </tr>\n",
       "    <tr>\n",
       "      <th>29335</th>\n",
       "      <td>0</td>\n",
       "      <td>0</td>\n",
       "      <td>836</td>\n",
       "      <td>0</td>\n",
       "      <td>0</td>\n",
       "      <td>0</td>\n",
       "      <td>30</td>\n",
       "    </tr>\n",
       "    <tr>\n",
       "      <th>29350</th>\n",
       "      <td>0</td>\n",
       "      <td>0</td>\n",
       "      <td>836</td>\n",
       "      <td>0</td>\n",
       "      <td>0</td>\n",
       "      <td>0</td>\n",
       "      <td>30</td>\n",
       "    </tr>\n",
       "    <tr>\n",
       "      <th>29352</th>\n",
       "      <td>0</td>\n",
       "      <td>0</td>\n",
       "      <td>843</td>\n",
       "      <td>0</td>\n",
       "      <td>0</td>\n",
       "      <td>0</td>\n",
       "      <td>30</td>\n",
       "    </tr>\n",
       "    <tr>\n",
       "      <th>29354</th>\n",
       "      <td>0</td>\n",
       "      <td>0</td>\n",
       "      <td>828</td>\n",
       "      <td>0</td>\n",
       "      <td>0</td>\n",
       "      <td>0</td>\n",
       "      <td>30</td>\n",
       "    </tr>\n",
       "  </tbody>\n",
       "</table>\n",
       "<p>3288 rows × 7 columns</p>\n",
       "</div>"
      ],
      "text/plain": [
       "             frequency_cal  recency_cal  T_cal  monetary_value_cal  \\\n",
       "CustomerKey                                                          \n",
       "11015                    0            0    314                   0   \n",
       "11016                    0            0    292                   0   \n",
       "11021                    0            0    309                   0   \n",
       "11022                    0            0    312                   0   \n",
       "11036                    0            0    310                   0   \n",
       "...                    ...          ...    ...                 ...   \n",
       "29334                    0            0    837                   0   \n",
       "29335                    0            0    836                   0   \n",
       "29350                    0            0    836                   0   \n",
       "29352                    0            0    843                   0   \n",
       "29354                    0            0    828                   0   \n",
       "\n",
       "             frequency_holdout  monetary_value_holdout  duration_holdout  \n",
       "CustomerKey                                                               \n",
       "11015                        0                       0                30  \n",
       "11016                        0                       0                30  \n",
       "11021                        0                       0                30  \n",
       "11022                        0                       0                30  \n",
       "11036                        0                       0                30  \n",
       "...                        ...                     ...               ...  \n",
       "29334                        0                       0                30  \n",
       "29335                        0                       0                30  \n",
       "29350                        0                       0                30  \n",
       "29352                        0                       0                30  \n",
       "29354                        0                       0                30  \n",
       "\n",
       "[3288 rows x 7 columns]"
      ]
     },
     "execution_count": 88,
     "metadata": {},
     "output_type": "execute_result"
    }
   ],
   "source": [
    "# train/test split (calibration/holdout)\n",
    "t_holdout = 30                                       # 30 days to reserve for holdout period\n",
    "\n",
    "max_date = recent_day                  # end date of observations/ max date of the dataset\n",
    "print(\"end of observations:\", max_date)\n",
    "\n",
    "max_cal_date = max_date - timedelta(days=t_holdout)     # end date of chosen calibration period/ cutoff\n",
    "print(\"end of calibration period:\", max_cal_date)\n",
    "\n",
    "df_ch = calibration_and_holdout_data(\n",
    "        transactions = aw_df, \n",
    "        customer_id_col = \"CustomerKey\", \n",
    "        datetime_col = \"Date\",\n",
    "        monetary_value_col = \"Sales Amount\", \n",
    "        calibration_period_end = max_cal_date, \n",
    "        observation_period_end = max_date,         \n",
    "        freq = \"D\")  # D for days, W for weeks\n",
    "\n",
    "print(\"customer behavior in calibration and holdout periods\")\n",
    "pd.options.display.float_format = '{:,.0f}'.format\n",
    "df_ch"
   ]
  },
  {
   "cell_type": "code",
   "execution_count": 89,
   "metadata": {},
   "outputs": [
    {
     "data": {
      "text/html": [
       "<div>\n",
       "<style scoped>\n",
       "    .dataframe tbody tr th:only-of-type {\n",
       "        vertical-align: middle;\n",
       "    }\n",
       "\n",
       "    .dataframe tbody tr th {\n",
       "        vertical-align: top;\n",
       "    }\n",
       "\n",
       "    .dataframe thead th {\n",
       "        text-align: right;\n",
       "    }\n",
       "</style>\n",
       "<table border=\"1\" class=\"dataframe\">\n",
       "  <thead>\n",
       "    <tr style=\"text-align: right;\">\n",
       "      <th></th>\n",
       "      <th>frequency_cal</th>\n",
       "      <th>recency_cal</th>\n",
       "      <th>T_cal</th>\n",
       "      <th>monetary_value_cal</th>\n",
       "      <th>frequency_holdout</th>\n",
       "      <th>monetary_value_holdout</th>\n",
       "      <th>duration_holdout</th>\n",
       "    </tr>\n",
       "  </thead>\n",
       "  <tbody>\n",
       "    <tr>\n",
       "      <th>count</th>\n",
       "      <td>3,288</td>\n",
       "      <td>3,288</td>\n",
       "      <td>3,288</td>\n",
       "      <td>3,288</td>\n",
       "      <td>3,288</td>\n",
       "      <td>3,288</td>\n",
       "      <td>3,288</td>\n",
       "    </tr>\n",
       "    <tr>\n",
       "      <th>mean</th>\n",
       "      <td>0</td>\n",
       "      <td>190</td>\n",
       "      <td>406</td>\n",
       "      <td>668</td>\n",
       "      <td>0</td>\n",
       "      <td>57</td>\n",
       "      <td>30</td>\n",
       "    </tr>\n",
       "    <tr>\n",
       "      <th>std</th>\n",
       "      <td>0</td>\n",
       "      <td>275</td>\n",
       "      <td>312</td>\n",
       "      <td>978</td>\n",
       "      <td>0</td>\n",
       "      <td>324</td>\n",
       "      <td>0</td>\n",
       "    </tr>\n",
       "    <tr>\n",
       "      <th>min</th>\n",
       "      <td>0</td>\n",
       "      <td>0</td>\n",
       "      <td>0</td>\n",
       "      <td>0</td>\n",
       "      <td>0</td>\n",
       "      <td>0</td>\n",
       "      <td>30</td>\n",
       "    </tr>\n",
       "    <tr>\n",
       "      <th>25%</th>\n",
       "      <td>0</td>\n",
       "      <td>0</td>\n",
       "      <td>132</td>\n",
       "      <td>0</td>\n",
       "      <td>0</td>\n",
       "      <td>0</td>\n",
       "      <td>30</td>\n",
       "    </tr>\n",
       "    <tr>\n",
       "      <th>50%</th>\n",
       "      <td>0</td>\n",
       "      <td>0</td>\n",
       "      <td>326</td>\n",
       "      <td>0</td>\n",
       "      <td>0</td>\n",
       "      <td>0</td>\n",
       "      <td>30</td>\n",
       "    </tr>\n",
       "    <tr>\n",
       "      <th>75%</th>\n",
       "      <td>1</td>\n",
       "      <td>427</td>\n",
       "      <td>684</td>\n",
       "      <td>1,215</td>\n",
       "      <td>0</td>\n",
       "      <td>0</td>\n",
       "      <td>30</td>\n",
       "    </tr>\n",
       "    <tr>\n",
       "      <th>max</th>\n",
       "      <td>2</td>\n",
       "      <td>1,026</td>\n",
       "      <td>1,034</td>\n",
       "      <td>2,443</td>\n",
       "      <td>1</td>\n",
       "      <td>2,384</td>\n",
       "      <td>30</td>\n",
       "    </tr>\n",
       "  </tbody>\n",
       "</table>\n",
       "</div>"
      ],
      "text/plain": [
       "       frequency_cal  recency_cal  T_cal  monetary_value_cal  \\\n",
       "count          3,288        3,288  3,288               3,288   \n",
       "mean               0          190    406                 668   \n",
       "std                0          275    312                 978   \n",
       "min                0            0      0                   0   \n",
       "25%                0            0    132                   0   \n",
       "50%                0            0    326                   0   \n",
       "75%                1          427    684               1,215   \n",
       "max                2        1,026  1,034               2,443   \n",
       "\n",
       "       frequency_holdout  monetary_value_holdout  duration_holdout  \n",
       "count              3,288                   3,288             3,288  \n",
       "mean                   0                      57                30  \n",
       "std                    0                     324                 0  \n",
       "min                    0                       0                30  \n",
       "25%                    0                       0                30  \n",
       "50%                    0                       0                30  \n",
       "75%                    0                       0                30  \n",
       "max                    1                   2,384                30  "
      ]
     },
     "execution_count": 89,
     "metadata": {},
     "output_type": "execute_result"
    }
   ],
   "source": [
    "df_ch.describe()"
   ]
  },
  {
   "cell_type": "code",
   "execution_count": 90,
   "metadata": {},
   "outputs": [
    {
     "data": {
      "image/png": "[encoded data removed]",
      "text/plain": [
       "<Figure size 1008x576 with 4 Axes>"
      ]
     },
     "metadata": {
      "needs_background": "light"
     },
     "output_type": "display_data"
    }
   ],
   "source": [
    "plt.figure(figsize=(14,8))\n",
    "plt.subplot(221)\n",
    "sns.distplot(df_ch[\"frequency_cal\"])\n",
    "plt.title(\"Frequency Distribution\")\n",
    "plt.subplot(222)\n",
    "sns.distplot(df_ch[\"recency_cal\"])\n",
    "plt.title(\"Recency Distribution\")\n",
    "plt.subplot(223)\n",
    "sns.distplot(df_ch[\"T_cal\"])\n",
    "plt.title(\"T Distribution\")\n",
    "plt.subplot(224)\n",
    "sns.distplot(df_ch[\"monetary_value_cal\"])\n",
    "plt.title(\"Monetary Value Distribution\")\n",
    "plt.tight_layout()"
   ]
  },
  {
   "attachments": {},
   "cell_type": "markdown",
   "metadata": {},
   "source": [
    "2.2 Fit the BG/NBD Model"
   ]
  },
  {
   "cell_type": "code",
   "execution_count": 91,
   "metadata": {},
   "outputs": [
    {
     "name": "stdout",
     "output_type": "stream",
     "text": [
      "Optimization terminated successfully.\n",
      "         Current function value: 0.350989\n",
      "         Iterations: 45\n",
      "         Function evaluations: 46\n",
      "         Gradient evaluations: 46\n"
     ]
    },
    {
     "data": {
      "text/plain": [
       "<lifetimes.BetaGeoFitter: fitted with 3288 subjects, a: 1.68, alpha: 27349.31, b: 0.04, r: 28.77>"
      ]
     },
     "execution_count": 91,
     "metadata": {},
     "output_type": "execute_result"
    }
   ],
   "source": [
    "# training: BG/NBD model\n",
    "bgf = BetaGeoFitter(penalizer_coef= 1e-06)\n",
    "bgf.fit(\n",
    "        frequency = df_ch[\"frequency_cal\"], \n",
    "        recency = df_ch[\"recency_cal\"], \n",
    "        T = df_ch[\"T_cal\"],   \n",
    "        weights = None,  \n",
    "        verbose = True,   \n",
    "        tol = 1e-06\n",
    "        )"
   ]
  },
  {
   "cell_type": "code",
   "execution_count": 92,
   "metadata": {},
   "outputs": [
    {
     "data": {
      "text/html": [
       "<div>\n",
       "<style scoped>\n",
       "    .dataframe tbody tr th:only-of-type {\n",
       "        vertical-align: middle;\n",
       "    }\n",
       "\n",
       "    .dataframe tbody tr th {\n",
       "        vertical-align: top;\n",
       "    }\n",
       "\n",
       "    .dataframe thead th {\n",
       "        text-align: right;\n",
       "    }\n",
       "</style>\n",
       "<table border=\"1\" class=\"dataframe\">\n",
       "  <thead>\n",
       "    <tr style=\"text-align: right;\">\n",
       "      <th></th>\n",
       "      <th>coef</th>\n",
       "      <th>se(coef)</th>\n",
       "      <th>lower 95% bound</th>\n",
       "      <th>upper 95% bound</th>\n",
       "    </tr>\n",
       "  </thead>\n",
       "  <tbody>\n",
       "    <tr>\n",
       "      <th>r</th>\n",
       "      <td>28.769</td>\n",
       "      <td>5.250</td>\n",
       "      <td>18.480</td>\n",
       "      <td>39.059</td>\n",
       "    </tr>\n",
       "    <tr>\n",
       "      <th>alpha</th>\n",
       "      <td>27,349.305</td>\n",
       "      <td>5,024.394</td>\n",
       "      <td>17,501.493</td>\n",
       "      <td>37,197.118</td>\n",
       "    </tr>\n",
       "    <tr>\n",
       "      <th>a</th>\n",
       "      <td>1.677</td>\n",
       "      <td>8.182</td>\n",
       "      <td>-14.361</td>\n",
       "      <td>17.714</td>\n",
       "    </tr>\n",
       "    <tr>\n",
       "      <th>b</th>\n",
       "      <td>0.041</td>\n",
       "      <td>0.201</td>\n",
       "      <td>-0.352</td>\n",
       "      <td>0.434</td>\n",
       "    </tr>\n",
       "  </tbody>\n",
       "</table>\n",
       "</div>"
      ],
      "text/plain": [
       "            coef  se(coef)  lower 95% bound  upper 95% bound\n",
       "r         28.769     5.250           18.480           39.059\n",
       "alpha 27,349.305 5,024.394       17,501.493       37,197.118\n",
       "a          1.677     8.182          -14.361           17.714\n",
       "b          0.041     0.201           -0.352            0.434"
      ]
     },
     "execution_count": 92,
     "metadata": {},
     "output_type": "execute_result"
    }
   ],
   "source": [
    "# training: summary\n",
    "pd.options.display.float_format = '{:,.3f}'.format\n",
    "bgf.summary"
   ]
  },
  {
   "cell_type": "code",
   "execution_count": 93,
   "metadata": {},
   "outputs": [
    {
     "data": {
      "text/plain": [
       "<Figure size 864x864 with 0 Axes>"
      ]
     },
     "metadata": {},
     "output_type": "display_data"
    },
    {
     "data": {
      "image/png": "[encoded data removed]",
      "text/plain": [
       "<Figure size 432x288 with 1 Axes>"
      ]
     },
     "metadata": {
      "needs_background": "light"
     },
     "output_type": "display_data"
    }
   ],
   "source": [
    "# training: does the model reflect the actual data closely enough?\n",
    "\n",
    "# frequency of repeat transactions: predicted vs actual\n",
    "fig = plt.figure(figsize=(12, 12))\n",
    "plot_period_transactions(bgf);"
   ]
  },
  {
   "cell_type": "code",
   "execution_count": 94,
   "metadata": {},
   "outputs": [
    {
     "data": {
      "text/plain": [
       "<AxesSubplot:title={'center':'Actual Purchases in Holdout Period vs Predicted Purchases'}, xlabel='Purchases in calibration period', ylabel='Average of Purchases in Holdout Period'>"
      ]
     },
     "execution_count": 94,
     "metadata": {},
     "output_type": "execute_result"
    },
    {
     "data": {
      "text/plain": [
       "<Figure size 504x504 with 0 Axes>"
      ]
     },
     "metadata": {},
     "output_type": "display_data"
    },
    {
     "data": {
      "image/png": "[encoded data removed]",
      "text/plain": [
       "<Figure size 432x288 with 1 Axes>"
      ]
     },
     "metadata": {
      "needs_background": "light"
     },
     "output_type": "display_data"
    }
   ],
   "source": [
    "# testing: predicted vs actual purchases in holdout period\n",
    "fig = plt.figure(figsize=(7, 7)) \n",
    "plot_calibration_purchases_vs_holdout_purchases(bgf, df_ch)"
   ]
  },
  {
   "attachments": {},
   "cell_type": "markdown",
   "metadata": {},
   "source": [
    "# 3. Predict the number of purchase in the next period"
   ]
  },
  {
   "attachments": {},
   "cell_type": "markdown",
   "metadata": {},
   "source": [
    "3.3 Predictions"
   ]
  },
  {
   "cell_type": "code",
   "execution_count": 95,
   "metadata": {},
   "outputs": [
    {
     "data": {
      "text/plain": [
       "frequency_cal              0.000\n",
       "recency_cal                0.000\n",
       "T_cal                    307.000\n",
       "monetary_value_cal         0.000\n",
       "frequency_holdout          0.000\n",
       "monetary_value_holdout     0.000\n",
       "duration_holdout          30.000\n",
       "Name: 11144, dtype: float64"
      ]
     },
     "execution_count": 95,
     "metadata": {},
     "output_type": "execute_result"
    }
   ],
   "source": [
    "# First, we choose a sample customer. \n",
    "sample_customer = df_ch.iloc[20] \n",
    "\n",
    "# Let's inspect his frequency, recency and T both for the calibration and observation periods:\n",
    "sample_customer"
   ]
  },
  {
   "cell_type": "code",
   "execution_count": 96,
   "metadata": {},
   "outputs": [
    {
     "data": {
      "text/plain": [
       "0.030720755031338767"
      ]
     },
     "execution_count": 96,
     "metadata": {},
     "output_type": "execute_result"
    }
   ],
   "source": [
    "# This function calculates the conditional expected number of transactions in the given time length\n",
    "n_transactions_pred = bgf.predict(t=t_holdout, # we set it to 360 days (the length of the observation period)\n",
    "                                  frequency=sample_customer['frequency_cal'], \n",
    "                                  recency=sample_customer['recency_cal'], \n",
    "                                  T=sample_customer['T_cal'])\n",
    "\n",
    "n_transactions_pred "
   ]
  },
  {
   "cell_type": "code",
   "execution_count": 97,
   "metadata": {},
   "outputs": [
    {
     "data": {
      "text/html": [
       "<div>\n",
       "<style scoped>\n",
       "    .dataframe tbody tr th:only-of-type {\n",
       "        vertical-align: middle;\n",
       "    }\n",
       "\n",
       "    .dataframe tbody tr th {\n",
       "        vertical-align: top;\n",
       "    }\n",
       "\n",
       "    .dataframe thead th {\n",
       "        text-align: right;\n",
       "    }\n",
       "</style>\n",
       "<table border=\"1\" class=\"dataframe\">\n",
       "  <thead>\n",
       "    <tr style=\"text-align: right;\">\n",
       "      <th></th>\n",
       "      <th>frequency_cal</th>\n",
       "      <th>recency_cal</th>\n",
       "      <th>T_cal</th>\n",
       "      <th>monetary_value_cal</th>\n",
       "      <th>frequency_holdout</th>\n",
       "      <th>monetary_value_holdout</th>\n",
       "      <th>duration_holdout</th>\n",
       "      <th>predicted_purchased</th>\n",
       "    </tr>\n",
       "    <tr>\n",
       "      <th>CustomerKey</th>\n",
       "      <th></th>\n",
       "      <th></th>\n",
       "      <th></th>\n",
       "      <th></th>\n",
       "      <th></th>\n",
       "      <th></th>\n",
       "      <th></th>\n",
       "      <th></th>\n",
       "    </tr>\n",
       "  </thead>\n",
       "  <tbody>\n",
       "    <tr>\n",
       "      <th>11015</th>\n",
       "      <td>0.000</td>\n",
       "      <td>0.000</td>\n",
       "      <td>314.000</td>\n",
       "      <td>0.000</td>\n",
       "      <td>0.000</td>\n",
       "      <td>0.000</td>\n",
       "      <td>30.000</td>\n",
       "      <td>0.031</td>\n",
       "    </tr>\n",
       "    <tr>\n",
       "      <th>23269</th>\n",
       "      <td>0.000</td>\n",
       "      <td>0.000</td>\n",
       "      <td>124.000</td>\n",
       "      <td>0.000</td>\n",
       "      <td>0.000</td>\n",
       "      <td>0.000</td>\n",
       "      <td>30.000</td>\n",
       "      <td>0.031</td>\n",
       "    </tr>\n",
       "    <tr>\n",
       "      <th>23270</th>\n",
       "      <td>0.000</td>\n",
       "      <td>0.000</td>\n",
       "      <td>118.000</td>\n",
       "      <td>0.000</td>\n",
       "      <td>0.000</td>\n",
       "      <td>0.000</td>\n",
       "      <td>30.000</td>\n",
       "      <td>0.031</td>\n",
       "    </tr>\n",
       "    <tr>\n",
       "      <th>23276</th>\n",
       "      <td>0.000</td>\n",
       "      <td>0.000</td>\n",
       "      <td>140.000</td>\n",
       "      <td>0.000</td>\n",
       "      <td>0.000</td>\n",
       "      <td>0.000</td>\n",
       "      <td>30.000</td>\n",
       "      <td>0.031</td>\n",
       "    </tr>\n",
       "    <tr>\n",
       "      <th>23287</th>\n",
       "      <td>0.000</td>\n",
       "      <td>0.000</td>\n",
       "      <td>119.000</td>\n",
       "      <td>0.000</td>\n",
       "      <td>0.000</td>\n",
       "      <td>0.000</td>\n",
       "      <td>30.000</td>\n",
       "      <td>0.031</td>\n",
       "    </tr>\n",
       "    <tr>\n",
       "      <th>...</th>\n",
       "      <td>...</td>\n",
       "      <td>...</td>\n",
       "      <td>...</td>\n",
       "      <td>...</td>\n",
       "      <td>...</td>\n",
       "      <td>...</td>\n",
       "      <td>...</td>\n",
       "      <td>...</td>\n",
       "    </tr>\n",
       "    <tr>\n",
       "      <th>16888</th>\n",
       "      <td>0.000</td>\n",
       "      <td>0.000</td>\n",
       "      <td>293.000</td>\n",
       "      <td>0.000</td>\n",
       "      <td>0.000</td>\n",
       "      <td>0.000</td>\n",
       "      <td>30.000</td>\n",
       "      <td>0.031</td>\n",
       "    </tr>\n",
       "    <tr>\n",
       "      <th>16889</th>\n",
       "      <td>0.000</td>\n",
       "      <td>0.000</td>\n",
       "      <td>263.000</td>\n",
       "      <td>0.000</td>\n",
       "      <td>0.000</td>\n",
       "      <td>0.000</td>\n",
       "      <td>30.000</td>\n",
       "      <td>0.031</td>\n",
       "    </tr>\n",
       "    <tr>\n",
       "      <th>16890</th>\n",
       "      <td>0.000</td>\n",
       "      <td>0.000</td>\n",
       "      <td>259.000</td>\n",
       "      <td>0.000</td>\n",
       "      <td>0.000</td>\n",
       "      <td>0.000</td>\n",
       "      <td>30.000</td>\n",
       "      <td>0.031</td>\n",
       "    </tr>\n",
       "    <tr>\n",
       "      <th>16872</th>\n",
       "      <td>0.000</td>\n",
       "      <td>0.000</td>\n",
       "      <td>43.000</td>\n",
       "      <td>0.000</td>\n",
       "      <td>0.000</td>\n",
       "      <td>0.000</td>\n",
       "      <td>30.000</td>\n",
       "      <td>0.031</td>\n",
       "    </tr>\n",
       "    <tr>\n",
       "      <th>29354</th>\n",
       "      <td>0.000</td>\n",
       "      <td>0.000</td>\n",
       "      <td>828.000</td>\n",
       "      <td>0.000</td>\n",
       "      <td>0.000</td>\n",
       "      <td>0.000</td>\n",
       "      <td>30.000</td>\n",
       "      <td>0.031</td>\n",
       "    </tr>\n",
       "  </tbody>\n",
       "</table>\n",
       "<p>3288 rows × 8 columns</p>\n",
       "</div>"
      ],
      "text/plain": [
       "             frequency_cal  recency_cal   T_cal  monetary_value_cal  \\\n",
       "CustomerKey                                                           \n",
       "11015                0.000        0.000 314.000               0.000   \n",
       "23269                0.000        0.000 124.000               0.000   \n",
       "23270                0.000        0.000 118.000               0.000   \n",
       "23276                0.000        0.000 140.000               0.000   \n",
       "23287                0.000        0.000 119.000               0.000   \n",
       "...                    ...          ...     ...                 ...   \n",
       "16888                0.000        0.000 293.000               0.000   \n",
       "16889                0.000        0.000 263.000               0.000   \n",
       "16890                0.000        0.000 259.000               0.000   \n",
       "16872                0.000        0.000  43.000               0.000   \n",
       "29354                0.000        0.000 828.000               0.000   \n",
       "\n",
       "             frequency_holdout  monetary_value_holdout  duration_holdout  \\\n",
       "CustomerKey                                                                \n",
       "11015                    0.000                   0.000            30.000   \n",
       "23269                    0.000                   0.000            30.000   \n",
       "23270                    0.000                   0.000            30.000   \n",
       "23276                    0.000                   0.000            30.000   \n",
       "23287                    0.000                   0.000            30.000   \n",
       "...                        ...                     ...               ...   \n",
       "16888                    0.000                   0.000            30.000   \n",
       "16889                    0.000                   0.000            30.000   \n",
       "16890                    0.000                   0.000            30.000   \n",
       "16872                    0.000                   0.000            30.000   \n",
       "29354                    0.000                   0.000            30.000   \n",
       "\n",
       "             predicted_purchased  \n",
       "CustomerKey                       \n",
       "11015                      0.031  \n",
       "23269                      0.031  \n",
       "23270                      0.031  \n",
       "23276                      0.031  \n",
       "23287                      0.031  \n",
       "...                          ...  \n",
       "16888                      0.031  \n",
       "16889                      0.031  \n",
       "16890                      0.031  \n",
       "16872                      0.031  \n",
       "29354                      0.031  \n",
       "\n",
       "[3288 rows x 8 columns]"
      ]
     },
     "execution_count": 97,
     "metadata": {},
     "output_type": "execute_result"
    }
   ],
   "source": [
    "df_ch['predicted_purchased'] = bgf.conditional_expected_number_of_purchases_up_to_time(\n",
    "    t=30,\n",
    "    frequency=sample_customer['frequency_cal'], \n",
    "    recency=sample_customer['recency_cal'], \n",
    "    T=sample_customer['T_cal']\n",
    ")\n",
    "df_ch.sort_values(by='predicted_purchased')"
   ]
  },
  {
   "cell_type": "code",
   "execution_count": 98,
   "metadata": {},
   "outputs": [
    {
     "data": {
      "text/plain": [
       "array([1.])"
      ]
     },
     "execution_count": 98,
     "metadata": {},
     "output_type": "execute_result"
    }
   ],
   "source": [
    "alive_prob = bgf.conditional_probability_alive(frequency=sample_customer['frequency_cal'], \n",
    "                                               recency=sample_customer['recency_cal'], \n",
    "                                               T=sample_customer['T_cal'])\n",
    "\n",
    "alive_prob"
   ]
  },
  {
   "cell_type": "code",
   "execution_count": 99,
   "metadata": {},
   "outputs": [
    {
     "data": {
      "text/html": [
       "<div>\n",
       "<style scoped>\n",
       "    .dataframe tbody tr th:only-of-type {\n",
       "        vertical-align: middle;\n",
       "    }\n",
       "\n",
       "    .dataframe tbody tr th {\n",
       "        vertical-align: top;\n",
       "    }\n",
       "\n",
       "    .dataframe thead th {\n",
       "        text-align: right;\n",
       "    }\n",
       "</style>\n",
       "<table border=\"1\" class=\"dataframe\">\n",
       "  <thead>\n",
       "    <tr style=\"text-align: right;\">\n",
       "      <th></th>\n",
       "      <th>n_transactions_holdout_real</th>\n",
       "      <th>n_transactions_holdout_pred</th>\n",
       "    </tr>\n",
       "    <tr>\n",
       "      <th>CustomerKey</th>\n",
       "      <th></th>\n",
       "      <th></th>\n",
       "    </tr>\n",
       "  </thead>\n",
       "  <tbody>\n",
       "    <tr>\n",
       "      <th>11015</th>\n",
       "      <td>1.000</td>\n",
       "      <td>0.312</td>\n",
       "    </tr>\n",
       "    <tr>\n",
       "      <th>11016</th>\n",
       "      <td>1.000</td>\n",
       "      <td>0.312</td>\n",
       "    </tr>\n",
       "    <tr>\n",
       "      <th>11021</th>\n",
       "      <td>1.000</td>\n",
       "      <td>0.312</td>\n",
       "    </tr>\n",
       "    <tr>\n",
       "      <th>11022</th>\n",
       "      <td>1.000</td>\n",
       "      <td>0.312</td>\n",
       "    </tr>\n",
       "    <tr>\n",
       "      <th>11036</th>\n",
       "      <td>1.000</td>\n",
       "      <td>0.312</td>\n",
       "    </tr>\n",
       "  </tbody>\n",
       "</table>\n",
       "</div>"
      ],
      "text/plain": [
       "             n_transactions_holdout_real  n_transactions_holdout_pred\n",
       "CustomerKey                                                          \n",
       "11015                              1.000                        0.312\n",
       "11016                              1.000                        0.312\n",
       "11021                              1.000                        0.312\n",
       "11022                              1.000                        0.312\n",
       "11036                              1.000                        0.312"
      ]
     },
     "execution_count": 99,
     "metadata": {},
     "output_type": "execute_result"
    }
   ],
   "source": [
    "# the real number of transactions in the observation period, which equals frequency_holdout + 1\n",
    "df_ch[\"n_transactions_holdout_real\"]  = df_ch[\"frequency_holdout\"] + 1\n",
    "\n",
    "# the predicted number of transactions in the next 360 days (length of the observation period)\n",
    "df_ch[\"n_transactions_holdout_pred\"] = bgf.predict(t=360, \n",
    "                                                    frequency=df_ch['frequency_cal'], \n",
    "                                                    recency=df_ch['recency_cal'], \n",
    "                                                    T=df_ch['T_cal'])\n",
    "\n",
    "# comparison of the real and predicted transactions\n",
    "df_ch[[\"n_transactions_holdout_real\", \"n_transactions_holdout_pred\"]].head()"
   ]
  },
  {
   "cell_type": "code",
   "execution_count": 100,
   "metadata": {},
   "outputs": [],
   "source": [
    "from sklearn.metrics import mean_squared_error"
   ]
  },
  {
   "cell_type": "code",
   "execution_count": 101,
   "metadata": {},
   "outputs": [
    {
     "data": {
      "text/plain": [
       "0.8656691139925108"
      ]
     },
     "execution_count": 101,
     "metadata": {},
     "output_type": "execute_result"
    }
   ],
   "source": [
    "\n",
    "RMSE = mean_squared_error(y_true = df_ch[\"n_transactions_holdout_real\"],\n",
    "                          y_pred = df_ch[\"n_transactions_holdout_pred\"],\n",
    "                          squared = False)\n",
    "\n",
    "RMSE"
   ]
  },
  {
   "cell_type": "code",
   "execution_count": 102,
   "metadata": {},
   "outputs": [
    {
     "data": {
      "text/plain": [
       "<AxesSubplot:title={'center':'Expected Number of Future Purchases for 1 Unit of Time,\\nby Frequency and Recency of a Customer'}, xlabel=\"Customer's Historical Frequency\", ylabel=\"Customer's Recency\">"
      ]
     },
     "execution_count": 102,
     "metadata": {},
     "output_type": "execute_result"
    },
    {
     "data": {
      "image/png": "[encoded data removed]",
      "text/plain": [
       "<Figure size 720x576 with 2 Axes>"
      ]
     },
     "metadata": {
      "needs_background": "light"
     },
     "output_type": "display_data"
    }
   ],
   "source": [
    "#plotting the frequency and recency matrix\n",
    "plt.figure(figsize=(10,8))\n",
    "plot_frequency_recency_matrix(bgf)"
   ]
  },
  {
   "cell_type": "code",
   "execution_count": 103,
   "metadata": {},
   "outputs": [
    {
     "data": {
      "text/plain": [
       "<AxesSubplot:title={'center':'Probability Customer is Alive,\\nby Frequency and Recency of a Customer'}, xlabel=\"Customer's Historical Frequency\", ylabel=\"Customer's Recency\">"
      ]
     },
     "execution_count": 103,
     "metadata": {},
     "output_type": "execute_result"
    },
    {
     "data": {
      "image/png": "[encoded data removed]",
      "text/plain": [
       "<Figure size 720x576 with 2 Axes>"
      ]
     },
     "metadata": {
      "needs_background": "light"
     },
     "output_type": "display_data"
    }
   ],
   "source": [
    "#plotting the churn matrix\n",
    "plt.figure(figsize=(10,8))\n",
    "plot_probability_alive_matrix(bgf)"
   ]
  },
  {
   "cell_type": "code",
   "execution_count": 104,
   "metadata": {},
   "outputs": [],
   "source": [
    "# df_ch[\"exp_sales_3_month\"] = bgf.predict(4 * 3,\n",
    "#                                            df_ch['frequency_cal'],\n",
    "#                                            df_ch['recency_cal'],\n",
    "#                                            df_ch['T_cal'])\n",
    "# df_ch.sort_values(\"exp_sales_3_month\", ascending=False).head(10)"
   ]
  },
  {
   "cell_type": "code",
   "execution_count": 105,
   "metadata": {},
   "outputs": [],
   "source": [
    "# df_ch[\"exp_sales_6_month\"] = bgf.predict(4 * 6,\n",
    "#                                            df_ch['frequency_cal'],\n",
    "#                                            df_ch['recency_cal'],\n",
    "#                                            df_ch['T_cal'])\n",
    "# df_ch.sort_values(\"exp_sales_6_month\", ascending=False).head(10)"
   ]
  },
  {
   "cell_type": "code",
   "execution_count": 106,
   "metadata": {},
   "outputs": [
    {
     "data": {
      "text/plain": [
       "<AxesSubplot:title={'center':'mean: 0.001, var: 0.000'}, xlabel='Transaction Rate', ylabel='Density'>"
      ]
     },
     "execution_count": 106,
     "metadata": {},
     "output_type": "execute_result"
    },
    {
     "data": {
      "image/png": "[encoded data removed]",
      "text/plain": [
       "<Figure size 432x288 with 1 Axes>"
      ]
     },
     "metadata": {
      "needs_background": "light"
     },
     "output_type": "display_data"
    }
   ],
   "source": [
    "# plot the estimated gamma distribution of λ (customers' propensities to purchase)\n",
    "plot_transaction_rate_heterogeneity(bgf)"
   ]
  },
  {
   "cell_type": "code",
   "execution_count": 107,
   "metadata": {},
   "outputs": [
    {
     "data": {
      "text/plain": [
       "<AxesSubplot:title={'center':'mean: 0.976, var: 0.009'}, xlabel='Dropout Probability p', ylabel='Density'>"
      ]
     },
     "execution_count": 107,
     "metadata": {},
     "output_type": "execute_result"
    },
    {
     "data": {
      "image/png": "[encoded data removed]",
      "text/plain": [
       "<Figure size 432x288 with 1 Axes>"
      ]
     },
     "metadata": {
      "needs_background": "light"
     },
     "output_type": "display_data"
    }
   ],
   "source": [
    "# Beta distribution of p: customer's probability of dropping out immediately after a transaction\n",
    "plot_dropout_rate_heterogeneity(model = bgf)"
   ]
  },
  {
   "attachments": {},
   "cell_type": "markdown",
   "metadata": {},
   "source": [
    "---"
   ]
  },
  {
   "attachments": {},
   "cell_type": "markdown",
   "metadata": {},
   "source": [
    "# 4. GAMMA GAMMA Value Model fitting "
   ]
  },
  {
   "cell_type": "code",
   "execution_count": 108,
   "metadata": {},
   "outputs": [],
   "source": [
    "df_gmgm = df_summary[df_summary['monetary_value'] > 0]"
   ]
  },
  {
   "cell_type": "code",
   "execution_count": 125,
   "metadata": {},
   "outputs": [
    {
     "data": {
      "image/png": "[encoded data removed]",
      "text/plain": [
       "<Figure size 1008x576 with 4 Axes>"
      ]
     },
     "metadata": {
      "needs_background": "light"
     },
     "output_type": "display_data"
    }
   ],
   "source": [
    "#plotting the distribution\n",
    "plt.figure(figsize=(14,8))\n",
    "plt.subplot(221)\n",
    "sns.distplot(df_gmgm[\"frequency\"])\n",
    "plt.title(\"Frequency Distribution\")\n",
    "plt.subplot(222)\n",
    "sns.distplot(df_gmgm[\"recency\"])\n",
    "plt.title(\"Recency Distribution\")\n",
    "plt.subplot(223)\n",
    "sns.distplot(df_gmgm[\"T\"])\n",
    "plt.title(\"T Distribution\")\n",
    "plt.subplot(224)\n",
    "sns.distplot(df_gmgm[\"monetary_value\"])\n",
    "plt.title(\"Monetary Value Distribution\")\n",
    "plt.tight_layout()"
   ]
  },
  {
   "cell_type": "code",
   "execution_count": 126,
   "metadata": {},
   "outputs": [
    {
     "data": {
      "image/png": "[encoded data removed]",
      "text/plain": [
       "<Figure size 1152x360 with 4 Axes>"
      ]
     },
     "metadata": {
      "needs_background": "light"
     },
     "output_type": "display_data"
    }
   ],
   "source": [
    "plt.figure(figsize=(16,5))\n",
    "plt.subplot(141)\n",
    "sns.boxplot(df_gmgm[\"frequency\"], color = \"olive\")\n",
    "plt.title(\"Frequency\")\n",
    "plt.subplot(142)\n",
    "sns.boxplot(df_gmgm[\"recency\"])\n",
    "plt.title(\"Recency\")\n",
    "plt.subplot(143)\n",
    "sns.boxplot(df_gmgm[\"T\"])\n",
    "plt.title(\"T\")\n",
    "plt.subplot(144)\n",
    "sns.boxplot(df_gmgm[\"monetary_value\"], color = \"salmon\")\n",
    "plt.title(\"Monetary Value\")\n",
    "plt.tight_layout()"
   ]
  },
  {
   "attachments": {},
   "cell_type": "markdown",
   "metadata": {},
   "source": [
    "To proceed with the Gamma Gamma Model we have to check for the assumption whether the frequency and monetary values are intercorrelated or not. As we can see here, the correlation between the frequency and monetary value is pretty low so we can go ahead to build Gamma Gamma Model."
   ]
  },
  {
   "cell_type": "code",
   "execution_count": 109,
   "metadata": {},
   "outputs": [
    {
     "data": {
      "text/plain": [
       "<AxesSubplot:>"
      ]
     },
     "execution_count": 109,
     "metadata": {},
     "output_type": "execute_result"
    },
    {
     "data": {
      "image/png": "[encoded data removed]",
      "text/plain": [
       "<Figure size 432x288 with 2 Axes>"
      ]
     },
     "metadata": {
      "needs_background": "light"
     },
     "output_type": "display_data"
    }
   ],
   "source": [
    "# Gamma-Gamma model requires a Pearson correlation close to 0 \n",
    "# between purchase frequency and monetary value\n",
    "sns.heatmap(df_gmgm[[\"frequency\", \"monetary_value\"]].corr(), annot = True)"
   ]
  },
  {
   "cell_type": "code",
   "execution_count": 110,
   "metadata": {},
   "outputs": [
    {
     "data": {
      "text/plain": [
       "<matplotlib.collections.PathCollection at 0x22e3df3d8b0>"
      ]
     },
     "execution_count": 110,
     "metadata": {},
     "output_type": "execute_result"
    },
    {
     "data": {
      "image/png": "[encoded data removed]",
      "text/plain": [
       "<Figure size 432x288 with 1 Axes>"
      ]
     },
     "metadata": {
      "needs_background": "light"
     },
     "output_type": "display_data"
    }
   ],
   "source": [
    "dfx = df_gmgm[\"monetary_value\"]\n",
    "dfy = df_gmgm[\"frequency\"]\n",
    "plt.scatter(dfx, dfy)"
   ]
  },
  {
   "cell_type": "code",
   "execution_count": 111,
   "metadata": {},
   "outputs": [
    {
     "data": {
      "text/plain": [
       "<lifetimes.GammaGammaFitter: fitted with 1328 subjects, p: 68.91, q: 3.58, v: 71.76>"
      ]
     },
     "execution_count": 111,
     "metadata": {},
     "output_type": "execute_result"
    }
   ],
   "source": [
    "# fitting the Gamma-Gamma model\n",
    "ggf = GammaGammaFitter(penalizer_coef = 1e-06)\n",
    "ggf.fit(\n",
    "        frequency = df_gmgm[\"frequency\"],\n",
    "        monetary_value = df_gmgm[\"monetary_value\"],  \n",
    "        weights = None,   \n",
    "        verbose = True,  \n",
    "        tol = 1e-06,  \n",
    "        q_constraint = True)"
   ]
  },
  {
   "cell_type": "code",
   "execution_count": 112,
   "metadata": {},
   "outputs": [
    {
     "data": {
      "text/plain": [
       "CustomerKey\n",
       "14081   2,424.418\n",
       "27651   2,367.276\n",
       "26534   2,367.276\n",
       "26511   2,367.276\n",
       "28191   2,367.276\n",
       "28190   2,367.276\n",
       "28159   2,367.276\n",
       "26530   2,367.276\n",
       "26532   2,367.276\n",
       "26536   2,367.276\n",
       "dtype: float64"
      ]
     },
     "execution_count": 112,
     "metadata": {},
     "output_type": "execute_result"
    }
   ],
   "source": [
    "ggf.conditional_expected_average_profit(df_gmgm['frequency'],\n",
    "                                        df_gmgm['monetary_value']).sort_values(ascending=False).head(10)"
   ]
  },
  {
   "cell_type": "code",
   "execution_count": 113,
   "metadata": {},
   "outputs": [
    {
     "data": {
      "text/plain": [
       "CustomerKey\n",
       "15862   589.689\n",
       "15562   589.689\n",
       "15553   589.689\n",
       "15892   589.689\n",
       "15570   589.689\n",
       "15548   589.689\n",
       "15276   589.689\n",
       "15017   589.689\n",
       "15901   589.689\n",
       "15860   589.689\n",
       "dtype: float64"
      ]
     },
     "execution_count": 113,
     "metadata": {},
     "output_type": "execute_result"
    }
   ],
   "source": [
    "ggf.conditional_expected_average_profit(df_gmgm['frequency'],\n",
    "                                        df_gmgm['monetary_value']).sort_values(ascending=True).head(10)"
   ]
  },
  {
   "cell_type": "code",
   "execution_count": 114,
   "metadata": {},
   "outputs": [
    {
     "data": {
      "text/plain": [
       "1792.1151961087066"
      ]
     },
     "execution_count": 114,
     "metadata": {},
     "output_type": "execute_result"
    }
   ],
   "source": [
    "ggf.conditional_expected_average_profit(\n",
    "        df_gmgm['frequency'],\n",
    "        df_gmgm['monetary_value']).mean()"
   ]
  },
  {
   "cell_type": "code",
   "execution_count": 115,
   "metadata": {},
   "outputs": [
    {
     "data": {
      "text/plain": [
       "1787.4495331325297"
      ]
     },
     "execution_count": 115,
     "metadata": {},
     "output_type": "execute_result"
    }
   ],
   "source": [
    "df_gmgm[df_gmgm['frequency']>0]['monetary_value'].mean()"
   ]
  },
  {
   "cell_type": "code",
   "execution_count": 116,
   "metadata": {},
   "outputs": [],
   "source": [
    "from sklearn.metrics import mean_absolute_percentage_error"
   ]
  },
  {
   "cell_type": "code",
   "execution_count": 117,
   "metadata": {},
   "outputs": [
    {
     "name": "stdout",
     "output_type": "stream",
     "text": [
      "MAPE of predicted revenues: 0.02\n"
     ]
    },
    {
     "data": {
      "text/html": [
       "<div>\n",
       "<style scoped>\n",
       "    .dataframe tbody tr th:only-of-type {\n",
       "        vertical-align: middle;\n",
       "    }\n",
       "\n",
       "    .dataframe tbody tr th {\n",
       "        vertical-align: top;\n",
       "    }\n",
       "\n",
       "    .dataframe thead th {\n",
       "        text-align: right;\n",
       "    }\n",
       "</style>\n",
       "<table border=\"1\" class=\"dataframe\">\n",
       "  <thead>\n",
       "    <tr style=\"text-align: right;\">\n",
       "      <th></th>\n",
       "      <th>frequency</th>\n",
       "      <th>recency</th>\n",
       "      <th>T</th>\n",
       "      <th>monetary_value</th>\n",
       "      <th>Expected_Avg_Sales</th>\n",
       "      <th>avg_rev</th>\n",
       "      <th>error_rev</th>\n",
       "    </tr>\n",
       "    <tr>\n",
       "      <th>CustomerKey</th>\n",
       "      <th></th>\n",
       "      <th></th>\n",
       "      <th></th>\n",
       "      <th></th>\n",
       "      <th></th>\n",
       "      <th></th>\n",
       "      <th></th>\n",
       "    </tr>\n",
       "  </thead>\n",
       "  <tbody>\n",
       "    <tr>\n",
       "      <th>11042</th>\n",
       "      <td>1.000</td>\n",
       "      <td>269.000</td>\n",
       "      <td>341.000</td>\n",
       "      <td>742.350</td>\n",
       "      <td>784.752</td>\n",
       "      <td>742.350</td>\n",
       "      <td>42.402</td>\n",
       "    </tr>\n",
       "    <tr>\n",
       "      <th>11082</th>\n",
       "      <td>1.000</td>\n",
       "      <td>288.000</td>\n",
       "      <td>340.000</td>\n",
       "      <td>742.350</td>\n",
       "      <td>784.752</td>\n",
       "      <td>742.350</td>\n",
       "      <td>42.402</td>\n",
       "    </tr>\n",
       "    <tr>\n",
       "      <th>11083</th>\n",
       "      <td>1.000</td>\n",
       "      <td>306.000</td>\n",
       "      <td>356.000</td>\n",
       "      <td>742.350</td>\n",
       "      <td>784.752</td>\n",
       "      <td>742.350</td>\n",
       "      <td>42.402</td>\n",
       "    </tr>\n",
       "    <tr>\n",
       "      <th>11084</th>\n",
       "      <td>1.000</td>\n",
       "      <td>321.000</td>\n",
       "      <td>358.000</td>\n",
       "      <td>742.350</td>\n",
       "      <td>784.752</td>\n",
       "      <td>742.350</td>\n",
       "      <td>42.402</td>\n",
       "    </tr>\n",
       "    <tr>\n",
       "      <th>11088</th>\n",
       "      <td>1.000</td>\n",
       "      <td>303.000</td>\n",
       "      <td>349.000</td>\n",
       "      <td>742.350</td>\n",
       "      <td>784.752</td>\n",
       "      <td>742.350</td>\n",
       "      <td>42.402</td>\n",
       "    </tr>\n",
       "  </tbody>\n",
       "</table>\n",
       "</div>"
      ],
      "text/plain": [
       "             frequency  recency       T  monetary_value  Expected_Avg_Sales  \\\n",
       "CustomerKey                                                                   \n",
       "11042            1.000  269.000 341.000         742.350             784.752   \n",
       "11082            1.000  288.000 340.000         742.350             784.752   \n",
       "11083            1.000  306.000 356.000         742.350             784.752   \n",
       "11084            1.000  321.000 358.000         742.350             784.752   \n",
       "11088            1.000  303.000 349.000         742.350             784.752   \n",
       "\n",
       "             avg_rev  error_rev  \n",
       "CustomerKey                      \n",
       "11042        742.350     42.402  \n",
       "11082        742.350     42.402  \n",
       "11083        742.350     42.402  \n",
       "11084        742.350     42.402  \n",
       "11088        742.350     42.402  "
      ]
     },
     "execution_count": 117,
     "metadata": {},
     "output_type": "execute_result"
    }
   ],
   "source": [
    "# estimate the average transaction value of each customer, based on frequency and monetary value\n",
    "exp_avg_rev = ggf.conditional_expected_average_profit(df_gmgm[\"frequency\"], df_gmgm[\"monetary_value\"])\n",
    "\n",
    "df_gmgm[\"Expected_Avg_Sales\"] = exp_avg_rev\n",
    "df_gmgm[\"avg_rev\"] = df_gmgm[\"monetary_value\"]\n",
    "df_gmgm[\"error_rev\"] = df_gmgm[\"Expected_Avg_Sales\"] - df_gmgm[\"avg_rev\"]\n",
    "\n",
    "mape = mean_absolute_percentage_error(exp_avg_rev, df_gmgm[\"monetary_value\"])\n",
    "print(\"MAPE of predicted revenues:\", f'{mape:.2f}')\n",
    "\n",
    "pd.options.display.float_format = '{:,.3f}'.format\n",
    "df_gmgm.head()"
   ]
  },
  {
   "cell_type": "code",
   "execution_count": 118,
   "metadata": {},
   "outputs": [
    {
     "data": {
      "text/plain": [
       "CustomerKey\n",
       "11042   0.465\n",
       "11082   0.474\n",
       "11083   0.475\n",
       "11084   0.482\n",
       "11088   0.477\n",
       "         ... \n",
       "29274   0.449\n",
       "29275   0.448\n",
       "29276   0.458\n",
       "29278   0.457\n",
       "29279   0.455\n",
       "Name: clv, Length: 1328, dtype: float64"
      ]
     },
     "execution_count": 118,
     "metadata": {},
     "output_type": "execute_result"
    }
   ],
   "source": [
    "clv = ggf.customer_lifetime_value(bgf,\n",
    "                                   df_gmgm['frequency'],\n",
    "                                   df_gmgm['recency'],\n",
    "                                   df_gmgm['T'],\n",
    "                                   df_gmgm['monetary_value'],\n",
    "                                   time=6,  # 6 months\n",
    "                                   freq=\"W\",  # Tenure frequency Weekly\n",
    "                                   discount_rate=0.01)\n",
    "\n",
    "df_gmgm[\"clv\"] = clv\n",
    "clv"
   ]
  },
  {
   "cell_type": "code",
   "execution_count": 119,
   "metadata": {},
   "outputs": [],
   "source": [
    "from sklearn.metrics import mean_squared_error\n",
    "from math import sqrt"
   ]
  },
  {
   "cell_type": "code",
   "execution_count": 120,
   "metadata": {},
   "outputs": [
    {
     "name": "stdout",
     "output_type": "stream",
     "text": [
      "Expected Average Sales: 1792.1151961087066\n",
      "Actual Average Sales: 1787.4495331325297\n",
      "Difference: -4.665662976176918\n",
      "Mean Squared Error: 712.7667179986946\n",
      "Root Mean Squared Error: 26.69769124847118\n"
     ]
    }
   ],
   "source": [
    "print(\"Expected Average Sales: %s\" % df_gmgm[\"Expected_Avg_Sales\"].mean())\n",
    "print(\"Actual Average Sales: %s\" % df_gmgm[\"monetary_value\"].mean())\n",
    "print(\"Difference: %s\" % (df_gmgm[\"monetary_value\"].mean() - df_gmgm[\"Expected_Avg_Sales\"].mean()))\n",
    "print(\"Mean Squared Error: %s\" % mean_squared_error(df_gmgm[\"monetary_value\"], df_gmgm[\"Expected_Avg_Sales\"]))\n",
    "print(\"Root Mean Squared Error: %s\" % sqrt(mean_squared_error(df_gmgm[\"monetary_value\"], df_gmgm[\"Expected_Avg_Sales\"])))"
   ]
  },
  {
   "cell_type": "code",
   "execution_count": 121,
   "metadata": {},
   "outputs": [
    {
     "data": {
      "text/plain": [
       "<matplotlib.legend.Legend at 0x22e418c59a0>"
      ]
     },
     "execution_count": 121,
     "metadata": {},
     "output_type": "execute_result"
    },
    {
     "data": {
      "image/png": "[encoded data removed]",
      "text/plain": [
       "<Figure size 1296x288 with 1 Axes>"
      ]
     },
     "metadata": {
      "needs_background": "light"
     },
     "output_type": "display_data"
    }
   ],
   "source": [
    "df_gmgm[\"Expected_Avg_Sales\"] = ggf.conditional_expected_average_profit(df_gmgm[\"frequency\"], \n",
    "                                                                        df_gmgm[\"monetary_value\"])\n",
    "\n",
    "plt.figure(figsize=(18,4))\n",
    "plt.subplot(131)\n",
    "sns.distplot(df_gmgm[\"monetary_value\"], color = \"g\", kde = False)\n",
    "sns.distplot(df_gmgm[\"Expected_Avg_Sales\"], color = \"r\", kde = False)\n",
    "plt.title(\"Actual/Predicted\")\n",
    "plt.legend([\"Actual\", \"Expected\"])\n",
    "# plt.subplot(132)\n",
    "# sns.scatterplot(df_gmgm[\"monetary_value\"], df_gmgm[\"Expected_Avg_Sales\"], alpha = 0.5, hue = df_gmgm[\"Error\"], palette = \"winter\")\n",
    "# plt.title(\"Actual v/s Predicted\")\n",
    "# plt.subplot(133)\n",
    "# plt.plot(df_gmgm[\"monetary_value\"]-df_gmgm[\"Expected_Avg_Sales\"], color = 'r', alpha = 0.4)\n",
    "# plt.title(\"Avg Sales Error\")\n",
    "# plt.show()"
   ]
  },
  {
   "attachments": {},
   "cell_type": "markdown",
   "metadata": {},
   "source": [
    "---"
   ]
  }
 ],
 "metadata": {
  "kernelspec": {
   "display_name": "Python 3.8.2 64-bit",
   "language": "python",
   "name": "python3"
  },
  "language_info": {
   "codemirror_mode": {
    "name": "ipython",
    "version": 3
   },
   "file_extension": ".py",
   "mimetype": "text/x-python",
   "name": "python",
   "nbconvert_exporter": "python",
   "pygments_lexer": "ipython3",
   "version": "3.8.2 (tags/v3.8.2:7b3ab59, Feb 25 2020, 23:03:10) [MSC v.1916 64 bit (AMD64)]"
  },
  "orig_nbformat": 4,
  "vscode": {
   "interpreter": {
    "hash": "570feb405e2e27c949193ac68f46852414290d515b0ba6e5d90d076ed2284471"
   }
  }
 },
 "nbformat": 4,
 "nbformat_minor": 2
}
